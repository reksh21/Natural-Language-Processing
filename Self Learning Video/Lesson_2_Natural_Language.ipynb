{
  "nbformat": 4,
  "nbformat_minor": 0,
  "metadata": {
    "colab": {
      "provenance": [],
      "authorship_tag": "ABX9TyPIoTA5TcQG//AaMQy9Fwjw",
      "include_colab_link": true
    },
    "kernelspec": {
      "name": "python3",
      "display_name": "Python 3"
    },
    "language_info": {
      "name": "python"
    }
  },
  "cells": [
    {
      "cell_type": "markdown",
      "metadata": {
        "id": "view-in-github",
        "colab_type": "text"
      },
      "source": [
        "<a href=\"https://colab.research.google.com/github/reksh21/Natural-Language-Processing/blob/main/Self%20Learning%20Video/Lesson_2_Natural_Language.ipynb\" target=\"_parent\"><img src=\"https://colab.research.google.com/assets/colab-badge.svg\" alt=\"Open In Colab\"/></a>"
      ]
    },
    {
      "cell_type": "markdown",
      "source": [
        "**Building Blocks of Human Language:**\n",
        "* **Phonemes:**\n",
        "  * Smallest unit of sound in a language.\n",
        "  * Provide meanings in group.\n",
        "  * Useful for Speech Recognition, Speech-to-text transcription, text-to-speech transcription.\n",
        "* **Morphemes/Lexemes:**\n",
        "  * Morphemes are combination of phonemes and contains prefixes and suffixes.\n",
        "  * Lexemes derive meaning from realted word. Eg: run, running forms same lexemes that is run.\n",
        "  * Used in Tokenization, Word Embeddings, POS tagging.\n",
        "* **Syntax:**\n",
        "  * Set of rules to construct grammatically correct sentences from words and phrases.\n",
        "  * Parse tree is the structure of language with words at the bottom, then parts of speech, phrases and finally sentence.\n",
        "  * Parsing, Entity/Relation Extraction is NLP task to construct Parse tree automatically.\n",
        "* **Context/Pragmatics:**\n",
        "  * Different parts of the language come together to provide specific meaning with long term references, word knowledge, common sense and literal meaning.\n",
        "  * Used in Summarization, Topic Modelling, Sentiment Analysis, Detecting Sarcasm.\n"
      ],
      "metadata": {
        "id": "yMRnYJ_lM-Un"
      }
    }
  ]
}