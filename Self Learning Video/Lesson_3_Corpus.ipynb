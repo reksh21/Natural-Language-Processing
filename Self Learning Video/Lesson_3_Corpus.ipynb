{
  "nbformat": 4,
  "nbformat_minor": 0,
  "metadata": {
    "colab": {
      "provenance": [],
      "authorship_tag": "ABX9TyMWGZQN0gXqSU+EJ1C3eIkv",
      "include_colab_link": true
    },
    "kernelspec": {
      "name": "python3",
      "display_name": "Python 3"
    },
    "language_info": {
      "name": "python"
    }
  },
  "cells": [
    {
      "cell_type": "markdown",
      "metadata": {
        "id": "view-in-github",
        "colab_type": "text"
      },
      "source": [
        "<a href=\"https://colab.research.google.com/github/reksh21/Natural-Language-Processing/blob/main/Self%20Learning%20Video/Lesson_3_Corpus.ipynb\" target=\"_parent\"><img src=\"https://colab.research.google.com/assets/colab-badge.svg\" alt=\"Open In Colab\"/></a>"
      ]
    },
    {
      "cell_type": "markdown",
      "source": [
        "**Topics Covered:**\n",
        "* Corpus\n",
        "* Workflow of Corpus Creation\n",
        "* Types of Corpora in NLTK Library\n",
        "* Corpus for NLP Tasks"
      ],
      "metadata": {
        "id": "89vH2mXO2Yfi"
      }
    },
    {
      "cell_type": "markdown",
      "source": [
        "**Corpus:**  Large collection of data in written or spoken format of Natural Language used as input for NLP.\n",
        "\n",
        "**What's in a Corpus?**\n",
        "\n",
        "**Text Data:**Ccontain various forms of text data, including news articles, books, emails, social media posts, transcripts of conversations, and even code.\n",
        "\n",
        "**Speech Data:** Contains Audio Recordings.\n",
        "**Structure:** The data is organized and machine-readable, allowing for easy access and analysis by NLP tools.\n",
        "\n",
        "**Variety:** Include different genres, dialects, and registers (formal vs informal language)."
      ],
      "metadata": {
        "id": "XNFT62ptdIn7"
      }
    },
    {
      "cell_type": "markdown",
      "source": [
        "**Workflow of Corpus Creation:**\n",
        "* Determine the type of data required.\n",
        "* Availability of data in open source resources.\n",
        "* Create if needed.\n",
        "* Quality of the data.\n",
        "* Preprocessing to clean the data.\n",
        "* Check Quantity."
      ],
      "metadata": {
        "id": "XXRzYNw5fUax"
      }
    },
    {
      "cell_type": "markdown",
      "source": [
        "**Types of Corpora in NLTK Library:**\n",
        "* **Isolated Corpus:** Collection of text or natural language. **Eg: Gutenberg, webtext,udhr**.\n",
        "* **Categorized Corpus:** Collection of text grouped into different category.**Eg: Brown**\n",
        "* **Overlapping Corpus:** Collection of text that are categorized but theb categories are overlap with each other. **Eg: Reuters**.\n",
        "* **Temporal Corpus:** Collection of the usage of natural language over the period of time. **Eg: Inaugural**."
      ],
      "metadata": {
        "id": "m0va8psGhCEm"
      }
    },
    {
      "cell_type": "markdown",
      "source": [
        "**Corpus for NLP Tasks:**\n",
        "* **POS Tagging:** Penn TreeBank, Ritter Dataset.\n",
        "* **Named Entity Recognition:** Reuters RCV1, WNUT 2017 Emerging Entities Task OntoNotes 5.0\n",
        "* **Sentiment Analysis:** IMDB 50k Movie Reviews, Amazon Customer Review 130 Million Reviews, 6.7 Million Reviews Yelp, Sentiment 140 160k Tweets.\n",
        "* **Text Classification/Clustering:** Reuters-21578 news documents\n",
        "* **Question Answering:** Stanford Question Answering Dataset (SQUAD) Jeopardy Dataset."
      ],
      "metadata": {
        "id": "_CIHoH8Cuegn"
      }
    }
  ]
}